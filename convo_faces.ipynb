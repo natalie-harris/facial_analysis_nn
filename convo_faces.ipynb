{
 "cells": [
  {
   "cell_type": "code",
   "execution_count": 5,
   "id": "31b97b9c-c140-483e-b9bc-e445fb6a3b9d",
   "metadata": {},
   "outputs": [
    {
     "name": "stdout",
     "output_type": "stream",
     "text": [
      "Requirement already satisfied: numpy in /usr/lib/python3.10/site-packages (1.23.5)\n",
      "\u001b[33mWARNING: Running pip as the 'root' user can result in broken permissions and conflicting behaviour with the system package manager. It is recommended to use a virtual environment instead: https://pip.pypa.io/warnings/venv\u001b[0m\u001b[33m\n",
      "\u001b[0mRequirement already satisfied: pandas in /usr/lib/python3.10/site-packages (1.5.1)\n",
      "Requirement already satisfied: pytz>=2020.1 in /usr/lib/python3.10/site-packages (from pandas) (2022.6)\n",
      "Requirement already satisfied: numpy>=1.21.0 in /usr/lib/python3.10/site-packages (from pandas) (1.23.5)\n",
      "Requirement already satisfied: python-dateutil>=2.8.1 in /usr/lib/python3.10/site-packages (from pandas) (2.8.2)\n",
      "Requirement already satisfied: six>=1.5 in /usr/lib/python3.10/site-packages (from python-dateutil>=2.8.1->pandas) (1.16.0)\n",
      "\u001b[33mWARNING: Running pip as the 'root' user can result in broken permissions and conflicting behaviour with the system package manager. It is recommended to use a virtual environment instead: https://pip.pypa.io/warnings/venv\u001b[0m\u001b[33m\n",
      "\u001b[0mRequirement already satisfied: matplotlib in /usr/lib/python3.10/site-packages (3.6.2)\n",
      "Requirement already satisfied: cycler>=0.10 in /usr/lib/python3.10/site-packages (from matplotlib) (0.11.0)\n",
      "Requirement already satisfied: fonttools>=4.22.0 in /usr/lib/python3.10/site-packages (from matplotlib) (4.38.0)\n",
      "Requirement already satisfied: contourpy>=1.0.1 in /usr/lib/python3.10/site-packages (from matplotlib) (1.0.6)\n",
      "Requirement already satisfied: pyparsing>=2.2.1 in /usr/lib/python3.10/site-packages (from matplotlib) (3.0.9)\n",
      "Requirement already satisfied: python-dateutil>=2.7 in /usr/lib/python3.10/site-packages (from matplotlib) (2.8.2)\n",
      "Requirement already satisfied: kiwisolver>=1.0.1 in /usr/lib/python3.10/site-packages (from matplotlib) (1.4.4)\n",
      "Requirement already satisfied: numpy>=1.19 in /usr/lib/python3.10/site-packages (from matplotlib) (1.23.5)\n",
      "Requirement already satisfied: pillow>=6.2.0 in /usr/lib/python3.10/site-packages (from matplotlib) (9.3.0)\n",
      "Requirement already satisfied: packaging>=20.0 in /usr/lib/python3.10/site-packages (from matplotlib) (21.3)\n",
      "Requirement already satisfied: six>=1.5 in /usr/lib/python3.10/site-packages (from python-dateutil>=2.7->matplotlib) (1.16.0)\n",
      "\u001b[33mWARNING: Running pip as the 'root' user can result in broken permissions and conflicting behaviour with the system package manager. It is recommended to use a virtual environment instead: https://pip.pypa.io/warnings/venv\u001b[0m\u001b[33m\n",
      "\u001b[0m"
     ]
    }
   ],
   "source": [
    "!pip install numpy\n",
    "!pip install pandas\n",
    "!pip install matplotlib\n",
    "\n",
    "import sys\n",
    "import numpy as np\n",
    "import pandas as pd\n",
    "from math import sqrt\n",
    "from matplotlib import pyplot as plt\n",
    "np.set_printoptions(threshold=sys.maxsize)\n",
    "\n",
    "data = pd.read_csv('faces.csv')"
   ]
  },
  {
   "cell_type": "code",
   "execution_count": 6,
   "id": "c8bc399d-36b5-4e60-a22f-5cca6c42b8f9",
   "metadata": {},
   "outputs": [],
   "source": [
    "data = np.array(data)\n",
    "m, n = data.shape\n",
    "np.random.shuffle(data) # shuffle before splitting into dev and training sets\n",
    "\n",
    "data_dev = data[0:100].T\n",
    "Y_dev = data_dev[2]\n",
    "X_dev = data_dev[4:n]\n",
    "X_dev = X_dev / 255.\n",
    "\n",
    "data_train = data[1000:1500].T\n",
    "Y_train = data_train[2]\n",
    "X_train = data_train[4:n]\n",
    "X_train = X_train / 255.\n",
    "_,m_train = X_train.shape"
   ]
  },
  {
   "cell_type": "code",
   "execution_count": 7,
   "id": "33a069f3-a7c4-4c10-bc02-36f2e0fb7e98",
   "metadata": {},
   "outputs": [
    {
     "name": "stdout",
     "output_type": "stream",
     "text": [
      "(2304, 500)\n",
      "2304\n",
      "48\n"
     ]
    }
   ],
   "source": [
    "print(X_train.shape)\n",
    "print(_)\n",
    "side_length = int(sqrt(_))\n",
    "print(side_length)"
   ]
  },
  {
   "cell_type": "code",
   "execution_count": 8,
   "id": "43b519e7-ef45-4a6d-b431-a443606c888a",
   "metadata": {},
   "outputs": [],
   "source": [
    "def visualize(image):\n",
    "    side_length = int(np.sqrt(image.shape[0]))\n",
    "    current_image = image.reshape((side_length, side_length)) * 255\n",
    "    current_image = np.asarray(current_image, dtype = np.float64)\n",
    "    plt.gray()\n",
    "    plt.imshow(X=current_image, interpolation='nearest', cmap='gray')\n",
    "    plt.show()"
   ]
  },
  {
   "cell_type": "code",
   "execution_count": 19,
   "id": "4b37c977-7829-410a-96e3-aae2150d3346",
   "metadata": {},
   "outputs": [
    {
     "data": {
      "image/png": "[encoded data removed]",
      "text/plain": [
       "<Figure size 640x480 with 1 Axes>"
      ]
     },
     "metadata": {},
     "output_type": "display_data"
    }
   ],
   "source": [
    "visualize(X_train.T[21])"
   ]
  },
  {
   "cell_type": "markdown",
   "id": "21eb8f8f-3ccc-4b99-b540-566888a8f601",
   "metadata": {},
   "source": [
    "Layers:\n",
    "2304 node input layer\n",
    "4 correlational layers, each 2025 nodes "
   ]
  },
  {
   "cell_type": "code",
   "execution_count": 10,
   "id": "a0999632-6379-4f09-bd6e-b8b2f924d7f6",
   "metadata": {},
   "outputs": [],
   "source": [
    "edge_detecting_kernels = [\n",
    "    np.array([[1, -1, -1],\n",
    "              [0, 1, -1],\n",
    "              [0, 0, 1]]),\n",
    "    \n",
    "    np.array([[-1, -1, 1],\n",
    "              [-1, 1, 0],\n",
    "              [1, 0, 0]]),\n",
    "    \n",
    "    np.array([[-1, -1, -1],\n",
    "              [1, 1, 1],\n",
    "              [0, 0, 0]]),\n",
    "    \n",
    "    np.array([[0, 1, -1],\n",
    "              [0, 1, -1],\n",
    "              [0, 1, -1]])\n",
    "]\n",
    "\n",
    "# currently not being used for processing reasons\n",
    "def rotate_180_degrees(kernel): # used to go from correlation to convolution!\n",
    "    new_matrix = np.zeros((3,3), dtype=int)\n",
    "    for i in range(3):\n",
    "        for j in range(3):\n",
    "            new_matrix[i, j] = kernel[2-i, 2-j]\n",
    "    return new_matrix"
   ]
  },
  {
   "cell_type": "code",
   "execution_count": 29,
   "id": "7c8c529f-796d-4002-b939-b34aa9011273",
   "metadata": {},
   "outputs": [
    {
     "name": "stdout",
     "output_type": "stream",
     "text": [
      "(8100,)\n"
     ]
    }
   ],
   "source": [
    "# I will need to reduce the size of the images due to processing constraints\n",
    "def reduce(image):\n",
    "    new_image = np.array([])\n",
    "    \n",
    "    kernel_side_length = 3\n",
    "    pixel_step = 3\n",
    "    image_side_length = int(sqrt(image.shape[0])) # assuming image is square, just take sqrt of total pixels\n",
    "    \n",
    "    for i in range(image_side_length, step=pixel_step):\n",
    "        for j in range(image_side_length, step=pixel_step):\n",
    "            \n",
    "            reduced_value = 0\n",
    "            \n",
    "            \n",
    "            new_image = np.append(new_image, reduced_value)\n",
    "            \n",
    "    return new_image\n",
    "\n",
    "def correlate(index):\n",
    "    left_diagonal_image = np.array([])\n",
    "    right_diagonal_image = np.array([])\n",
    "    horizontal_image = np.array([])\n",
    "    vertical_image = np.array([])\n",
    "    \n",
    "    current_image = X_train.T[index]\n",
    "    for i in range(side_length - 3): # 48 pixels per row - 3 to get last area checked by kernal\n",
    "        for j in range(side_length - 3):\n",
    "            checked_area = np.array([current_image[i * side_length + j:i * side_length + j + 3],\n",
    "                                     current_image[(i + 1) * side_length + j:(i + 1) * side_length + j + 3],\n",
    "                                     current_image[(i + 2) * side_length + j:(i + 2) * side_length + j + 3]])\n",
    "            sum = [0, 0, 0, 0] # used to store temp pixel values for edge detection maps\n",
    "            for k in range(3):\n",
    "                for l in range(3):\n",
    "                    for m in range(4):\n",
    "                        sum[m] += checked_area[k, l] * edge_detecting_kernels[m][k, l] / 3\n",
    "                        \n",
    "            left_diagonal_image = np.append(left_diagonal_image, sum[0])\n",
    "            right_diagonal_image = np.append(right_diagonal_image, sum[1])\n",
    "            horizontal_image = np.append(horizontal_image, sum[2])\n",
    "            vertical_image = np.append(vertical_image, sum[3])\n",
    "            \n",
    "            \n",
    "    visualize(left_diagonal_image)\n",
    "    visualize(right_diagonal_image)\n",
    "    visualize(left_diagonal_image)\n",
    "    visualize(horizontal_image)\n",
    "    \n",
    "    full_edge_image = np.append(left_diagonal_image.flatten(), right_diagonal_image.flatten())\n",
    "    full_edge_image = np.append(full_edge_image, horizontal_image.flatten())\n",
    "    full_edge_image = np.append(full_edge_image, vertical_image.flatten())\n",
    "    return full_edge_image\n",
    "    \n",
    "print(correlations.shape)"
   ]
  },
  {
   "cell_type": "code",
   "execution_count": 30,
   "id": "859e9ae6-89c8-41a9-a33f-0f27c15e943f",
   "metadata": {},
   "outputs": [
    {
     "name": "stdout",
     "output_type": "stream",
     "text": [
      "48\n"
     ]
    },
    {
     "data": {
      "text/plain": [
       "array([], dtype=float64)"
      ]
     },
     "execution_count": 30,
     "metadata": {},
     "output_type": "execute_result"
    }
   ],
   "source": [
    "reduce(X_train.T[21])"
   ]
  },
  {
   "cell_type": "code",
   "execution_count": null,
   "id": "7625eed0-fc2d-4e3d-93a0-85f90f381130",
   "metadata": {},
   "outputs": [],
   "source": []
  }
 ],
 "metadata": {
  "kernelspec": {
   "display_name": "Python 3 (ipykernel)",
   "language": "python",
   "name": "python3"
  },
  "language_info": {
   "codemirror_mode": {
    "name": "ipython",
    "version": 3
   },
   "file_extension": ".py",
   "mimetype": "text/x-python",
   "name": "python",
   "nbconvert_exporter": "python",
   "pygments_lexer": "ipython3",
   "version": "3.10.8"
  }
 },
 "nbformat": 4,
 "nbformat_minor": 5
}
